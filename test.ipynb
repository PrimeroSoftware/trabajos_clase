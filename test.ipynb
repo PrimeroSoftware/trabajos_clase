{
 "cells": [
  {
   "cell_type": "code",
   "execution_count": 1,
   "id": "8c153d0f",
   "metadata": {},
   "outputs": [
    {
     "name": "stdout",
     "output_type": "stream",
     "text": [
      "EWTNpZpRQUV\n"
     ]
    }
   ],
   "source": [
    "def encrypt(text, shift_value):\n",
    "    result = \"\"\n",
    "    # Traverse the original text\n",
    "    for i in range(len(text)):\n",
    "        char = text[i]\n",
    "        # Encrypt uppercase characters in plain text\n",
    "        if (char.isupper()):\n",
    "            result += chr((ord(char) + shift_value-65) % 26 + 65)\n",
    "        # Encrypt lowercase characters in plain text\n",
    "        else:\n",
    "            result += chr((ord(char) + shift_value - 97) % 26 + 97)\n",
    "    return result\n",
    "\n",
    "print(encrypt(\"CURL X POST\",2))"
   ]
  }
 ],
 "metadata": {
  "kernelspec": {
   "display_name": "Python 3",
   "language": "python",
   "name": "python3"
  },
  "language_info": {
   "codemirror_mode": {
    "name": "ipython",
    "version": 3
   },
   "file_extension": ".py",
   "mimetype": "text/x-python",
   "name": "python",
   "nbconvert_exporter": "python",
   "pygments_lexer": "ipython3",
   "version": "3.10.12"
  }
 },
 "nbformat": 4,
 "nbformat_minor": 5
}
