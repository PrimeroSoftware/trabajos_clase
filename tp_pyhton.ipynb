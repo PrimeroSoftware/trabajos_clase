{
 "cells": [
  {
   "cell_type": "markdown",
   "id": "1d489eaf",
   "metadata": {},
   "source": [
    "# Ejercicios de Python - Estructuras de Control\n",
    "\n",
    "Esta serie de ejercicios incluye el uso de:\n",
    "- Entrada de datos (input)\n",
    "- Salida de datos (print)\n",
    "- Estructuras de decisión (if/else)\n",
    "- Estructuras de iteración (for/while)"
   ]
  },
  {
   "cell_type": "markdown",
   "id": "b3028532",
   "metadata": {},
   "source": [
    "## Ejercicio 1: Número Par o Impar\n",
    "Escribe un programa que solicite al usuario un número y determine si es par o impar."
   ]
  },
  {
   "cell_type": "code",
   "execution_count": null,
   "id": "003bdb5d",
   "metadata": {},
   "outputs": [],
   "source": [
    "numero = input(\"Digite um número: \")\n",
    "if numero.isdigit():\n",
    "    numero = int(numero)\n",
    "    if numero  % 2 == 0:\n",
    "        print(f'El {numero} es par')\n",
    "    else:\n",
    "        print(f'El {numero} es impar')\n",
    "else:\n",
    "    print(\"Por favor, ingrese un número válido.\")"
   ]
  },
  {
   "cell_type": "markdown",
   "id": "a1973123",
   "metadata": {},
   "source": [
    "## Ejercicio 2: Conversor de Temperatura\n",
    "Crea un programa que convierta una temperatura de Celsius a Fahrenheit."
   ]
  },
  {
   "cell_type": "code",
   "execution_count": null,
   "id": "eaefc467",
   "metadata": {},
   "outputs": [],
   "source": []
  },
  {
   "cell_type": "markdown",
   "id": "0df3bc16",
   "metadata": {},
   "source": [
    "## Ejercicio 3: Tabla de Multiplicar\n",
    "Crea un programa que muestre la tabla de multiplicar de un número ingresado por el usuario (del 1 al 10)."
   ]
  },
  {
   "cell_type": "code",
   "execution_count": 7,
   "id": "1d8f8ffb",
   "metadata": {},
   "outputs": [
    {
     "name": "stdout",
     "output_type": "stream",
     "text": [
      "Vamos a imprimir la tabla del :  5\n",
      "5 x  1 =  5\n",
      "5 x  2 = 10\n",
      "5 x  3 = 15\n",
      "5 x  4 = 20\n",
      "5 x  5 = 25\n",
      "5 x  6 = 30\n",
      "5 x  7 = 35\n",
      "5 x  8 = 40\n",
      "5 x  9 = 45\n",
      "5 x 10 = 50\n"
     ]
    }
   ],
   "source": [
    "numero = input(\"Digite um número: \")\n",
    "if numero.isdigit():\n",
    "    numero = int(numero)\n",
    "    if 1 <= numero <= 10:\n",
    "        print('Vamos a imprimir la tabla del : ', numero)\n",
    "        for i in range(1, 11):\n",
    "            print(f\"{numero} x {i:2} = {(numero * i):2}\")\n",
    "    else:\n",
    "        print(\"El número debe estar entre 1 y 10.\")\n",
    "else:\n",
    "    print(\"Por favor, ingrese un número válido.\")"
   ]
  },
  {
   "cell_type": "markdown",
   "id": "c6683798",
   "metadata": {},
   "source": [
    "## Ejercicio 4: Suma de Números\n",
    "Crea un programa que pida al usuario cuántos números quiere sumar, luego solicite cada número y muestre la suma total."
   ]
  },
  {
   "cell_type": "code",
   "execution_count": 1,
   "id": "82aabd79",
   "metadata": {},
   "outputs": [
    {
     "name": "stdout",
     "output_type": "stream",
     "text": [
      "La suma de 5 + 9 es igual 14\n"
     ]
    }
   ],
   "source": [
    "def suma(a, b):\n",
    "    resp = a + b\n",
    "    return resp\n",
    "a = 5\n",
    "b = 9\n",
    "print(f\"La suma de {a} + {b} es igual {suma(a, b)}\")"
   ]
  },
  {
   "cell_type": "markdown",
   "id": "463d16fb",
   "metadata": {},
   "source": [
    "## Ejercicio 5: Validador de Contraseña\n",
    "Crea un programa que pida al usuario una contraseña y verifique si tiene al menos 8 caracteres."
   ]
  },
  {
   "cell_type": "code",
   "execution_count": null,
   "id": "5a2e0279",
   "metadata": {},
   "outputs": [],
   "source": [
    "password = input('Ingrese una contraseña de al menos 8 caracteres')\n",
    "if password.count() < 8:\n",
    "    print('La contraseña no es valida')"
   ]
  },
  {
   "cell_type": "markdown",
   "id": "a9f69603",
   "metadata": {},
   "source": [
    "## Ejercicio 6: Adivina el Número\n",
    "Crea un programa donde el usuario debe adivinar un número entre 1 y 10 con un máximo de 3 intentos."
   ]
  },
  {
   "cell_type": "code",
   "execution_count": null,
   "id": "c0155de1",
   "metadata": {},
   "outputs": [],
   "source": []
  },
  {
   "cell_type": "markdown",
   "id": "1ac462e6",
   "metadata": {},
   "source": [
    "## Ejercicio 7: Calculadora Simple\n",
    "Crea una calculadora que pida dos números y la operación a realizar (+, -, *, /)."
   ]
  },
  {
   "cell_type": "code",
   "execution_count": null,
   "id": "b71ed2b4",
   "metadata": {},
   "outputs": [],
   "source": []
  },
  {
   "cell_type": "markdown",
   "id": "5c9dabc6",
   "metadata": {},
   "source": [
    "## Ejercicio 8: Contador de Vocales\n",
    "Crea un programa que cuente cuántas vocales hay en una palabra ingresada por el usuario."
   ]
  },
  {
   "cell_type": "code",
   "execution_count": null,
   "id": "4f87c40b",
   "metadata": {},
   "outputs": [],
   "source": []
  },
  {
   "cell_type": "markdown",
   "id": "71554809",
   "metadata": {},
   "source": [
    "## Ejercicio 9: Categoría por Edad\n",
    "Crea un programa que determine la categoría de edad: niño (0-12), adolescente (13-19), adulto (20-64) o adulto mayor (65+)."
   ]
  },
  {
   "cell_type": "code",
   "execution_count": null,
   "id": "e092b112",
   "metadata": {},
   "outputs": [],
   "source": []
  },
  {
   "cell_type": "markdown",
   "id": "9de639f5",
   "metadata": {},
   "source": [
    "## Ejercicio 10: Carrito de Compras\n",
    "Crea un programa que calcule el total de una compra. El usuario ingresará precios hasta que ingrese 0."
   ]
  },
  {
   "cell_type": "code",
   "execution_count": null,
   "id": "75ac4294",
   "metadata": {},
   "outputs": [],
   "source": []
  }
 ],
 "metadata": {
  "kernelspec": {
   "display_name": "Python 3",
   "language": "python",
   "name": "python3"
  },
  "language_info": {
   "codemirror_mode": {
    "name": "ipython",
    "version": 3
   },
   "file_extension": ".py",
   "mimetype": "text/x-python",
   "name": "python",
   "nbconvert_exporter": "python",
   "pygments_lexer": "ipython3",
   "version": "3.10.12"
  }
 },
 "nbformat": 4,
 "nbformat_minor": 5
}
