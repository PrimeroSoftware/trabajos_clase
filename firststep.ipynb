{
 "cells": [
  {
   "cell_type": "code",
   "execution_count": null,
   "id": "24cdfd23",
   "metadata": {},
   "outputs": [],
   "source": [
    "# Declaracion Variable Numerica\n",
    "numero = 10.0 # float\n",
    "\n",
    "numero2 = 40 # int\n",
    "\n",
    "# El resultado de la suma de dos numeros tiene el tipo de tipo de mayor importancia\n",
    "resultado = numero + numero2 \n",
    "print(resultado)\n",
    "print(type(numero), type(resultado))"
   ]
  },
  {
   "cell_type": "markdown",
   "id": "02437713",
   "metadata": {},
   "source": [
    "# Fundamentos de Python\n",
    "\n",
    "## Variables Numéricas"
   ]
  },
  {
   "cell_type": "markdown",
   "id": "a0dc8e9e",
   "metadata": {},
   "source": [
    "## Variables String"
   ]
  },
  {
   "cell_type": "code",
   "execution_count": null,
   "id": "43e6c7e3",
   "metadata": {},
   "outputs": [],
   "source": [
    "# Declaracion Variable String\n",
    "# Se puede usar comillas simples o dobles\n",
    "nombre = \"Daniel\"\n",
    "\n",
    "nombre = 'Pepito'\n",
    "# len es una funcion que devuelve el numero de caracteres de un string\n",
    "print(type(nombre))\n",
    "print(nombre[5], nombre[len(nombre)-1], len(nombre), nombre[-len(nombre)])"
   ]
  },
  {
   "cell_type": "markdown",
   "id": "9fde6b11",
   "metadata": {},
   "source": [
    "## Variables Booleanas y Operadores Lógicos"
   ]
  },
  {
   "cell_type": "code",
   "execution_count": null,
   "id": "a8502cb8",
   "metadata": {},
   "outputs": [],
   "source": [
    "# Variable Boolean o Logica\n",
    "es = True\n",
    "es2 = False\n",
    "print(type(es), type(es2))\n",
    "# Operadores Logicos\n",
    "print(es and es2) # and Falso\n",
    "print(es or es2) # or Verdadero\n",
    "print(not es) # not Negacion de Verdadero\n",
    "\n",
    "# La variable \"condicion\" es el resultado de la operacion logica\n",
    "condicion = es and es2\n",
    "print(condicion)\n",
    "condicion = condicion or 25 > 10\n",
    "if condicion:\n",
    "    print(\"La condicion es verdadera\")\n",
    "else:\n",
    "    print(\"La condicion es falsa\")"
   ]
  },
  {
   "cell_type": "markdown",
   "id": "078177ca",
   "metadata": {},
   "source": [
    "## Estructuras de Control - Condicionales"
   ]
  },
  {
   "cell_type": "code",
   "execution_count": null,
   "id": "19b358a9",
   "metadata": {},
   "outputs": [],
   "source": [
    "# Estructras de Control\n",
    "# Condicionales\n",
    "numero1 = int(input(\"Ingrese un numero: \"))\n",
    "numero2 = int(input(\"Ingrese otro numero: \"))\n",
    "\n",
    "# Se compara 2 numero por medio de operadores de comparacion\n",
    "# if condicion:\n",
    "#     accion si condicion es verdadera\n",
    "# elif condicion2:\n",
    "#     accion si condicion2 es verdadera\n",
    "# else:\n",
    "#     accion si condicion es falsa\n",
    "if numero1 > numero2:\n",
    "    print(\"El primer numero es mayor que el segundo\")\n",
    "elif numero1 < numero2:\n",
    "    print(\"El segundo numero es mayor que el primero\")\n",
    "else:\n",
    "    if numero1 * 10 < numero2:\n",
    "        print(\"El primer numero es menor que el segundo por un factor de 10\")\n",
    "    print(\"Los numeros son iguales\")\n",
    "\n",
    "numero1 = int(input(\"Ingrese un numero: \"))\n",
    "match numero1:\n",
    "    case 1:\n",
    "        print(\"El numero es uno\")\n",
    "    case 2:\n",
    "        print(\"El numero es dos\")\n",
    "    case 3:\n",
    "        print(\"El numero es tres\")\n",
    "    case _:\n",
    "        print(\"El numero no es ni uno, ni dos, ni tres\")\n",
    "        \n",
    "if numero1 == 1:\n",
    "    print(\"El numero es uno\")\n",
    "elif numero1 == 2:\n",
    "    print(\"El numero es dos\")\n",
    "elif numero1 == 3:\n",
    "    print(\"El numero es tres\")\n",
    "else:\n",
    "    print(\"El numero no es ni uno, ni dos, ni tres\")"
   ]
  },
  {
   "cell_type": "markdown",
   "id": "6ba46cd0",
   "metadata": {},
   "source": [
    "## Estructuras de Control - Ciclos"
   ]
  },
  {
   "cell_type": "code",
   "execution_count": null,
   "id": "7b19073d",
   "metadata": {},
   "outputs": [],
   "source": [
    "# Estracturas de Control\n",
    "# Ciclos // Iterativas\n",
    "# While // Mientras\n",
    "contador = 0\n",
    "while contador < 10:\n",
    "    print(\"Contador:\", contador)\n",
    "    contador += 1  # Incrementa el contador en 1\n",
    "    # contador = contador + 1  # Otra forma de incrementar el contador\n",
    "    \n",
    "# For // Para\n",
    "palabra = \"Python1234\"\n",
    "print(range(10))  # Muestra los numeros del 0 al 9\n",
    "for i in range(10):  # Itera desde 0 hasta 9\n",
    "    print(\"Contador:\", i, \"Letra: \", palabra[i])\n",
    "\n",
    "for letra in \"Python1234\":\n",
    "    print(\"Letra:\", letra)"
   ]
  },
  {
   "cell_type": "markdown",
   "id": "e1e59cba",
   "metadata": {},
   "source": [
    "## Trabajo con Cadenas de Texto"
   ]
  },
  {
   "cell_type": "code",
   "execution_count": null,
   "id": "7d8847bc",
   "metadata": {},
   "outputs": [],
   "source": [
    "# Trabajo con Cadenas de Texto\n",
    "cadena1 = 'Hola'\n",
    "cadena2 = 'Mundo'\n",
    "pizza = \"Pizzaron\"\n",
    "print(\"Hola Mundo\")\n",
    "print(cadena1 + \" \" + cadena2)  # Concatenacion de cadenas\n",
    "print(cadena1 * 3)  # Repeticion de cadenas\n",
    "print(pizza[0:2])  # Me devuelve los dos primeros caracteres de la cadena\n",
    "print(pizza[2:4])\n",
    "print(\"{} mi {} de {}\".format(cadena1, cadena2, pizza))\n",
    "print(f\"{cadena1} mi {cadena2} de {pizza}\")  # Formateo de cadenas con f-strings\n",
    "print(f'''{cadena1} \n",
    "      mi {cadena2} \n",
    "      de {pizza}''') \n",
    "print('12345'.isdigit())  # Verifica si la cadena es un numero"
   ]
  },
  {
   "cell_type": "markdown",
   "id": "ff3d3421",
   "metadata": {},
   "source": [
    "## Estructuras de Datos - Listas, Tuplas y Diccionarios"
   ]
  },
  {
   "cell_type": "code",
   "execution_count": null,
   "id": "599bdd69",
   "metadata": {},
   "outputs": [],
   "source": [
    "from pprint import pprint as pp\n",
    "\n",
    "mylista = [1, 2, 3, 4, 5, 7]\n",
    "for item in mylista[-3:-1]:\n",
    "    print(item)\n",
    "\n",
    "mylista.append(6)  # Agrega un elemento al final de la lista\n",
    "mylista.insert(0, 0)  # Agrega un elemento al inicio de la lista\n",
    "mylista.reverse()\n",
    "print(mylista)  # Invierte el orden de los elementos de la lista\n",
    "mylista.sort()  # Ordena la lista\n",
    "print(mylista)  # Muestra la lista ordenada\n",
    "\n",
    "tablas = []\n",
    "for i in range(1, 11):\n",
    "    tabla = []\n",
    "    for j in range(1, 10):\n",
    "        tabla.append(i * j)\n",
    "    tablas.append(tabla)\n",
    "mylista.pop()  # Elimina el ultimo elemento de la lista\n",
    "pp(tablas)  # Muestra las tablas de multiplicar del 1 al 10\n",
    "print(list(range(1, 11)))\n",
    "print(list(cadena1+cadena2))\n",
    "\n",
    "#Tuplas\n",
    "mytuple = tuple(mylista)  # Convierte la lista en una tupla\n",
    "print(mytuple)  # Muestra la tupla\n",
    "otratupla = (1, 2, 3, 4, 5)  # Crea una tupla\n",
    "\n",
    "# Diccionarios\n",
    "mydiccionario = {\n",
    "    \"nombre\": \"Daniel\",\n",
    "    \"edad\": 30,\n",
    "    \"lenguajes\": [\"Python\", \"JavaScript\", \"C++\"]\n",
    "}\n",
    "print(mydiccionario)  # Muestra el diccionario\n",
    "print(mydiccionario[\"nombre\"])  # Accede al valor de la clave \"nombre\"\n",
    "print(mydiccionario.get(\"nombre\"))  # Accede al valor de la clave \"nombre\" usando get\n",
    "print(mydiccionario[\"lenguajes\"][0])  # Accede al primer elemento de la lista de lenguajes\n",
    "mydiccionario[\"lenguajes\"].append(\"Java\")  # Agrega un nuevo lenguaje a la lista\n",
    "mydiccionario[\"apellido\"] = \"Perez\"  # Agrega una nueva clave al diccionario\n",
    "pp(mydiccionario, sort_dicts=False)  # Muestra el diccionario actualizado\n",
    "\n",
    "print(f'''\n",
    "Apellido : {mydiccionario['apellido']}\n",
    "Nombre   : {mydiccionario['nombre']}\n",
    "Edad     : {mydiccionario['edad']}\n",
    "Lenguaje : {mydiccionario['lenguajes'][1]}\n",
    "      ''')"
   ]
  }
 ],
 "metadata": {
  "kernelspec": {
   "display_name": "Python 3",
   "language": "python",
   "name": "python3"
  },
  "language_info": {
   "codemirror_mode": {
    "name": "ipython",
    "version": 3
   },
   "file_extension": ".py",
   "mimetype": "text/x-python",
   "name": "python",
   "nbconvert_exporter": "python",
   "pygments_lexer": "ipython3",
   "version": "3.10.12"
  }
 },
 "nbformat": 4,
 "nbformat_minor": 5
}
