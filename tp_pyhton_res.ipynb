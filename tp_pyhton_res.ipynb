{
 "cells": [
  {
   "cell_type": "markdown",
   "id": "1d489eaf",
   "metadata": {},
   "source": [
    "# Ejercicios de Python - Estructuras de Control\n",
    "\n",
    "Esta serie de ejercicios incluye el uso de:\n",
    "- Entrada de datos (input)\n",
    "- Salida de datos (print)\n",
    "- Estructuras de decisión (if/else)\n",
    "- Estructuras de iteración (for/while)"
   ]
  },
  {
   "cell_type": "markdown",
   "id": "b3028532",
   "metadata": {},
   "source": [
    "## Ejercicio 1: Número Par o Impar\n",
    "Escribe un programa que solicite al usuario un número y determine si es par o impar."
   ]
  },
  {
   "cell_type": "code",
   "execution_count": null,
   "id": "003bdb5d",
   "metadata": {},
   "outputs": [],
   "source": [
    "numero = int(input('Ingrese un número: '))\n",
    "if numero % 2 == 0:\n",
    "    print(f'El número {numero} es par')\n",
    "else:\n",
    "    print(f'El número {numero} es impar')"
   ]
  },
  {
   "cell_type": "markdown",
   "id": "a1973123",
   "metadata": {},
   "source": [
    "## Ejercicio 2: Conversor de Temperatura\n",
    "Crea un programa que convierta una temperatura de Celsius a Fahrenheit."
   ]
  },
  {
   "cell_type": "code",
   "execution_count": null,
   "id": "eaefc467",
   "metadata": {},
   "outputs": [],
   "source": [
    "celsius = float(input('Ingrese la temperatura en Celsius: '))\n",
    "fahrenheit = (celsius * 9/5) + 32\n",
    "print(f'{celsius}°C equivale a {fahrenheit}°F')"
   ]
  },
  {
   "cell_type": "markdown",
   "id": "0df3bc16",
   "metadata": {},
   "source": [
    "## Ejercicio 3: Tabla de Multiplicar\n",
    "Crea un programa que muestre la tabla de multiplicar de un número ingresado por el usuario (del 1 al 10)."
   ]
  },
  {
   "cell_type": "code",
   "execution_count": null,
   "id": "1d8f8ffb",
   "metadata": {},
   "outputs": [],
   "source": [
    "numero = int(input('Ingrese un número para ver su tabla de multiplicar: '))\n",
    "print(f'Tabla de multiplicar del {numero}:')\n",
    "for i in range(1, 11):\n",
    "    print(f'{numero} x {i} = {numero * i}')"
   ]
  },
  {
   "cell_type": "markdown",
   "id": "c6683798",
   "metadata": {},
   "source": [
    "## Ejercicio 4: Suma de Números\n",
    "Crea un programa que pida al usuario cuántos números quiere sumar, luego solicite cada número y muestre la suma total."
   ]
  },
  {
   "cell_type": "code",
   "execution_count": null,
   "id": "82aabd79",
   "metadata": {},
   "outputs": [],
   "source": [
    "cantidad = int(input('¿Cuántos números desea sumar? '))\n",
    "suma = 0\n",
    "for i in range(cantidad):\n",
    "    numero = float(input(f'Ingrese el número {i+1}: '))\n",
    "    suma += numero\n",
    "print(f'La suma total es: {suma}')"
   ]
  },
  {
   "cell_type": "markdown",
   "id": "463d16fb",
   "metadata": {},
   "source": [
    "## Ejercicio 5: Validador de Contraseña\n",
    "Crea un programa que pida al usuario una contraseña y verifique si tiene al menos 8 caracteres."
   ]
  },
  {
   "cell_type": "code",
   "execution_count": null,
   "id": "5a2e0279",
   "metadata": {},
   "outputs": [],
   "source": [
    "contrasena = input('Ingrese una contraseña: ')\n",
    "if len(contrasena) >= 8:\n",
    "    print('La contraseña es válida')\n",
    "else:\n",
    "    print('La contraseña debe tener al menos 8 caracteres')"
   ]
  },
  {
   "cell_type": "markdown",
   "id": "a9f69603",
   "metadata": {},
   "source": [
    "## Ejercicio 6: Adivina el Número\n",
    "Crea un programa donde el usuario debe adivinar un número entre 1 y 10 con un máximo de 3 intentos."
   ]
  },
  {
   "cell_type": "code",
   "execution_count": null,
   "id": "c0155de1",
   "metadata": {},
   "outputs": [],
   "source": [
    "numero_secreto = 7  # Podría ser aleatorio, pero lo dejamos fijo para este ejercicio\n",
    "intentos = 3\n",
    "\n",
    "while intentos > 0:\n",
    "    numero = int(input(f'Adivina el número (te quedan {intentos} intentos): '))\n",
    "    if numero == numero_secreto:\n",
    "        print('¡Felicitaciones! ¡Adivinaste!')\n",
    "        break\n",
    "    else:\n",
    "        print('Número incorrecto')\n",
    "        intentos -= 1\n",
    "\n",
    "if intentos == 0:\n",
    "    print(f'Se acabaron los intentos. El número era {numero_secreto}')"
   ]
  },
  {
   "cell_type": "markdown",
   "id": "1ac462e6",
   "metadata": {},
   "source": [
    "## Ejercicio 7: Calculadora Simple\n",
    "Crea una calculadora que pida dos números y la operación a realizar (+, -, *, /)."
   ]
  },
  {
   "cell_type": "code",
   "execution_count": null,
   "id": "b71ed2b4",
   "metadata": {},
   "outputs": [],
   "source": [
    "num1 = float(input('Ingrese el primer número: '))\n",
    "num2 = float(input('Ingrese el segundo número: '))\n",
    "operacion = input('Ingrese la operación (+, -, *, /): ')\n",
    "\n",
    "if operacion == '+':\n",
    "    resultado = num1 + num2\n",
    "elif operacion == '-':\n",
    "    resultado = num1 - num2\n",
    "elif operacion == '*':\n",
    "    resultado = num1 * num2\n",
    "elif operacion == '/':\n",
    "    if num2 != 0:\n",
    "        resultado = num1 / num2\n",
    "    else:\n",
    "        print('Error: No se puede dividir por cero')\n",
    "        resultado = None\n",
    "else:\n",
    "    print('Operación no válida')\n",
    "    resultado = None\n",
    "\n",
    "if resultado is not None:\n",
    "    print(f'El resultado de {num1} {operacion} {num2} = {resultado}')"
   ]
  },
  {
   "cell_type": "markdown",
   "id": "5c9dabc6",
   "metadata": {},
   "source": [
    "## Ejercicio 8: Contador de Vocales\n",
    "Crea un programa que cuente cuántas vocales hay en una palabra ingresada por el usuario."
   ]
  },
  {
   "cell_type": "code",
   "execution_count": null,
   "id": "4f87c40b",
   "metadata": {},
   "outputs": [],
   "source": [
    "palabra = input('Ingrese una palabra: ').lower()\n",
    "vocales = 'aeiou'\n",
    "contador = 0\n",
    "\n",
    "for letra in palabra:\n",
    "    if letra in vocales:\n",
    "        contador += 1\n",
    "\n",
    "print(f'La palabra {palabra} tiene {contador} vocales')"
   ]
  },
  {
   "cell_type": "markdown",
   "id": "71554809",
   "metadata": {},
   "source": [
    "## Ejercicio 9: Categoría por Edad\n",
    "Crea un programa que determine la categoría de edad: niño (0-12), adolescente (13-19), adulto (20-64) o adulto mayor (65+)."
   ]
  },
  {
   "cell_type": "code",
   "execution_count": null,
   "id": "e092b112",
   "metadata": {},
   "outputs": [],
   "source": [
    "edad = int(input('Ingrese la edad: '))\n",
    "\n",
    "if edad < 0:\n",
    "    print('Edad no válida')\n",
    "elif edad <= 12:\n",
    "    print('Es un niño')\n",
    "elif edad <= 19:\n",
    "    print('Es un adolescente')\n",
    "elif edad <= 64:\n",
    "    print('Es un adulto')\n",
    "else:\n",
    "    print('Es un adulto mayor')"
   ]
  },
  {
   "cell_type": "markdown",
   "id": "9de639f5",
   "metadata": {},
   "source": [
    "## Ejercicio 10: Carrito de Compras\n",
    "Crea un programa que calcule el total de una compra. El usuario ingresará precios hasta que ingrese 0."
   ]
  },
  {
   "cell_type": "code",
   "execution_count": null,
   "id": "75ac4294",
   "metadata": {},
   "outputs": [],
   "source": [
    "total = 0\n",
    "precio = float(input('Ingrese el precio del producto (0 para terminar): '))\n",
    "\n",
    "while precio != 0:\n",
    "    total += precio\n",
    "    precio = float(input('Ingrese el precio del producto (0 para terminar): '))\n",
    "\n",
    "print(f'El total de la compra es: ${total:.2f}')"
   ]
  },
  {
   "cell_type": "code",
   "execution_count": null,
   "id": "4f2b003e",
   "metadata": {},
   "outputs": [],
   "source": []
  }
 ],
 "metadata": {
  "language_info": {
   "name": "python"
  }
 },
 "nbformat": 4,
 "nbformat_minor": 5
}
